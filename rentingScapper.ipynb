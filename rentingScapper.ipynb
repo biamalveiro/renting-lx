{
 "cells": [
  {
   "cell_type": "markdown",
   "metadata": {},
   "source": [
    "# Renting Scrapper"
   ]
  },
  {
   "cell_type": "markdown",
   "metadata": {},
   "source": [
    "#### imports"
   ]
  },
  {
   "cell_type": "code",
   "execution_count": 75,
   "metadata": {
    "ExecuteTime": {
     "end_time": "2018-06-14T13:12:33.524455Z",
     "start_time": "2018-06-14T13:12:32.811483Z"
    }
   },
   "outputs": [],
   "source": [
    "import urllib.request\n",
    "from bs4 import BeautifulSoup\n",
    "import re\n",
    "import pandas as pd"
   ]
  },
  {
   "cell_type": "markdown",
   "metadata": {},
   "source": [
    "#### HTML data finders"
   ]
  },
  {
   "cell_type": "code",
   "execution_count": 89,
   "metadata": {
    "ExecuteTime": {
     "end_time": "2018-06-14T13:23:59.466228Z",
     "start_time": "2018-06-14T13:23:59.438019Z"
    }
   },
   "outputs": [],
   "source": [
    "def findTopology(result):\n",
    "    topologia = result.find('img')['alt']\n",
    "    pattern = re.compile('T[0-2]([+][0-2])?')\n",
    "    topologia = re.search(pattern, topologia).group()\n",
    "    return topologia\n",
    "\n",
    "def findLocation(result):\n",
    "    location = result.find('p', {'class': 'searchPropertyLocation'}).text.strip().split(',')\n",
    "    cidade = location[-1].strip()\n",
    "    freguesia = location[-2].strip()\n",
    "    return [cidade, freguesia]\n",
    "\n",
    "def findLink(result):\n",
    "    link = result.find('a', { 'id': re.compile('MC_PropertyInList.*')})\n",
    "    link = 'https://casa.sapo.pt' + link['href']\n",
    "    return link\n",
    "\n",
    "def findPrice(result):\n",
    "    price = result.find('div', {'class': 'searchPropertyPrice'})\n",
    "    price = price.find('span').text.strip()  \n",
    "    if '/' in price:\n",
    "        price = price.split('/',1)[1] \n",
    "    price = re.sub('[^0-9]+', '', price)\n",
    "    return float(price)\n"
   ]
  },
  {
   "cell_type": "markdown",
   "metadata": {},
   "source": [
    "#### Testing for single result page"
   ]
  },
  {
   "cell_type": "code",
   "execution_count": 6,
   "metadata": {
    "ExecuteTime": {
     "end_time": "2018-06-14T12:09:12.651517Z",
     "start_time": "2018-06-14T12:09:12.648802Z"
    }
   },
   "outputs": [],
   "source": [
    "url = \"https://casa.sapo.pt/Alugar/Apartamentos/T0-ate-T2/Lisboa/?sa=11&pn=1\""
   ]
  },
  {
   "cell_type": "code",
   "execution_count": 7,
   "metadata": {
    "ExecuteTime": {
     "end_time": "2018-06-14T12:09:15.300060Z",
     "start_time": "2018-06-14T12:09:13.829101Z"
    }
   },
   "outputs": [],
   "source": [
    "with urllib.request.urlopen(url) as response:\n",
    "   page = response.read()\n",
    "   soup = BeautifulSoup(page, \"html.parser\")"
   ]
  },
  {
   "cell_type": "code",
   "execution_count": 37,
   "metadata": {
    "ExecuteTime": {
     "end_time": "2018-06-14T12:33:06.210066Z",
     "start_time": "2018-06-14T12:33:06.190071Z"
    }
   },
   "outputs": [],
   "source": [
    "results = soup.findAll('div', {'class' : 'searchResultProperty'})"
   ]
  },
  {
   "cell_type": "code",
   "execution_count": 78,
   "metadata": {
    "ExecuteTime": {
     "end_time": "2018-06-14T13:16:52.765904Z",
     "start_time": "2018-06-14T13:16:52.682530Z"
    }
   },
   "outputs": [],
   "source": [
    "col_names =  ['link', 'city', 'freguesia','topology', 'price']\n",
    "results_df  = pd.DataFrame(columns = col_names)\n",
    "\n",
    "for result in results:\n",
    "    \n",
    "    link = findLink(result)\n",
    "    location = findLocation(result)\n",
    "    city = location[0]\n",
    "    freguesia = location[1]\n",
    "    topology = findTopology(result)\n",
    "    price = findPrice(result)\n",
    "    \n",
    "    results_df.loc[len(results_df)] = [link,city,freguesia,topology,price]"
   ]
  },
  {
   "cell_type": "code",
   "execution_count": 79,
   "metadata": {
    "ExecuteTime": {
     "end_time": "2018-06-14T13:16:57.994549Z",
     "start_time": "2018-06-14T13:16:57.979691Z"
    }
   },
   "outputs": [
    {
     "data": {
      "text/html": [
       "<div>\n",
       "<style scoped>\n",
       "    .dataframe tbody tr th:only-of-type {\n",
       "        vertical-align: middle;\n",
       "    }\n",
       "\n",
       "    .dataframe tbody tr th {\n",
       "        vertical-align: top;\n",
       "    }\n",
       "\n",
       "    .dataframe thead th {\n",
       "        text-align: right;\n",
       "    }\n",
       "</style>\n",
       "<table border=\"1\" class=\"dataframe\">\n",
       "  <thead>\n",
       "    <tr style=\"text-align: right;\">\n",
       "      <th></th>\n",
       "      <th>link</th>\n",
       "      <th>city</th>\n",
       "      <th>freguesia</th>\n",
       "      <th>topology</th>\n",
       "      <th>price</th>\n",
       "    </tr>\n",
       "  </thead>\n",
       "  <tbody>\n",
       "    <tr>\n",
       "      <th>0</th>\n",
       "      <td>https://casa.sapo.pt//Apartamento-T1-Alugar-Li...</td>\n",
       "      <td>Lisboa</td>\n",
       "      <td>Arroios</td>\n",
       "      <td>T1</td>\n",
       "      <td>2850.0</td>\n",
       "    </tr>\n",
       "    <tr>\n",
       "      <th>1</th>\n",
       "      <td>https://casa.sapo.pt//Apartamento-T1-Venda-Alu...</td>\n",
       "      <td>Lisboa</td>\n",
       "      <td>Penha de França</td>\n",
       "      <td>T1+1</td>\n",
       "      <td>700.0</td>\n",
       "    </tr>\n",
       "    <tr>\n",
       "      <th>2</th>\n",
       "      <td>https://casa.sapo.pt//Apartamento-T1-Alugar-Li...</td>\n",
       "      <td>Lisboa</td>\n",
       "      <td>Parque das Nações</td>\n",
       "      <td>T1</td>\n",
       "      <td>1400.0</td>\n",
       "    </tr>\n",
       "    <tr>\n",
       "      <th>3</th>\n",
       "      <td>https://casa.sapo.pt//Apartamento-T2-Alugar-Li...</td>\n",
       "      <td>Lisboa</td>\n",
       "      <td>Alvalade</td>\n",
       "      <td>T2</td>\n",
       "      <td>1250.0</td>\n",
       "    </tr>\n",
       "    <tr>\n",
       "      <th>4</th>\n",
       "      <td>https://casa.sapo.pt//Apartamento-T2-Alugar-Li...</td>\n",
       "      <td>Lisboa</td>\n",
       "      <td>Estrela</td>\n",
       "      <td>T2</td>\n",
       "      <td>645.0</td>\n",
       "    </tr>\n",
       "    <tr>\n",
       "      <th>5</th>\n",
       "      <td>https://casa.sapo.pt//Apartamento-T0-Venda-Alu...</td>\n",
       "      <td>Lisboa</td>\n",
       "      <td>Ajuda</td>\n",
       "      <td>T0+1</td>\n",
       "      <td>700.0</td>\n",
       "    </tr>\n",
       "    <tr>\n",
       "      <th>6</th>\n",
       "      <td>https://casa.sapo.pt//Apartamento-T1-Alugar-Li...</td>\n",
       "      <td>Lisboa</td>\n",
       "      <td>Arroios</td>\n",
       "      <td>T1+1</td>\n",
       "      <td>850.0</td>\n",
       "    </tr>\n",
       "    <tr>\n",
       "      <th>7</th>\n",
       "      <td>https://casa.sapo.pt//Apartamento-T2-Alugar-Li...</td>\n",
       "      <td>Lisboa</td>\n",
       "      <td>Avenidas Novas</td>\n",
       "      <td>T2</td>\n",
       "      <td>1100.0</td>\n",
       "    </tr>\n",
       "    <tr>\n",
       "      <th>8</th>\n",
       "      <td>https://casa.sapo.pt//Apartamento-T2-Venda-Alu...</td>\n",
       "      <td>Lisboa</td>\n",
       "      <td>Santo António</td>\n",
       "      <td>T2+1</td>\n",
       "      <td>2350.0</td>\n",
       "    </tr>\n",
       "    <tr>\n",
       "      <th>9</th>\n",
       "      <td>https://casa.sapo.pt//Apartamento-T2-Alugar-Li...</td>\n",
       "      <td>Lisboa</td>\n",
       "      <td>Alvalade</td>\n",
       "      <td>T2</td>\n",
       "      <td>2100.0</td>\n",
       "    </tr>\n",
       "    <tr>\n",
       "      <th>10</th>\n",
       "      <td>https://casa.sapo.pt//Apartamento-T2-Alugar-Li...</td>\n",
       "      <td>Lisboa</td>\n",
       "      <td>Alvalade</td>\n",
       "      <td>T2</td>\n",
       "      <td>1000.0</td>\n",
       "    </tr>\n",
       "    <tr>\n",
       "      <th>11</th>\n",
       "      <td>https://casa.sapo.pt//Apartamento-T1-Alugar-Li...</td>\n",
       "      <td>Lisboa</td>\n",
       "      <td>Parque das Nações</td>\n",
       "      <td>T1</td>\n",
       "      <td>1230.0</td>\n",
       "    </tr>\n",
       "    <tr>\n",
       "      <th>12</th>\n",
       "      <td>https://casa.sapo.pt//Apartamento-T2-Alugar-Li...</td>\n",
       "      <td>Lisboa</td>\n",
       "      <td>São Vicente</td>\n",
       "      <td>T2</td>\n",
       "      <td>1300.0</td>\n",
       "    </tr>\n",
       "    <tr>\n",
       "      <th>13</th>\n",
       "      <td>https://casa.sapo.pt//Apartamento-T2-Alugar-Li...</td>\n",
       "      <td>Lisboa</td>\n",
       "      <td>Parque das Nações</td>\n",
       "      <td>T2</td>\n",
       "      <td>3200.0</td>\n",
       "    </tr>\n",
       "    <tr>\n",
       "      <th>14</th>\n",
       "      <td>https://casa.sapo.pt//Apartamento-T2-Alugar-Li...</td>\n",
       "      <td>Lisboa</td>\n",
       "      <td>Avenidas Novas</td>\n",
       "      <td>T2</td>\n",
       "      <td>2900.0</td>\n",
       "    </tr>\n",
       "    <tr>\n",
       "      <th>15</th>\n",
       "      <td>https://casa.sapo.pt//Apartamento-T2-Alugar-Li...</td>\n",
       "      <td>Lisboa</td>\n",
       "      <td>Avenidas Novas</td>\n",
       "      <td>T2</td>\n",
       "      <td>1200.0</td>\n",
       "    </tr>\n",
       "    <tr>\n",
       "      <th>16</th>\n",
       "      <td>https://casa.sapo.pt//Apartamento-T1-Alugar-Li...</td>\n",
       "      <td>Lisboa</td>\n",
       "      <td>Campo de Ourique</td>\n",
       "      <td>T1</td>\n",
       "      <td>1250.0</td>\n",
       "    </tr>\n",
       "    <tr>\n",
       "      <th>17</th>\n",
       "      <td>https://casa.sapo.pt//Apartamento-T1-Alugar-Li...</td>\n",
       "      <td>Lisboa</td>\n",
       "      <td>Belém</td>\n",
       "      <td>T1</td>\n",
       "      <td>1290.0</td>\n",
       "    </tr>\n",
       "    <tr>\n",
       "      <th>18</th>\n",
       "      <td>https://casa.sapo.pt//Apartamento-T2-Alugar-Li...</td>\n",
       "      <td>Lisboa</td>\n",
       "      <td>São Domingos de Benfica</td>\n",
       "      <td>T2</td>\n",
       "      <td>1600.0</td>\n",
       "    </tr>\n",
       "    <tr>\n",
       "      <th>19</th>\n",
       "      <td>https://casa.sapo.pt//Apartamento-T1-Alugar-Li...</td>\n",
       "      <td>Lisboa</td>\n",
       "      <td>Parque das Nações</td>\n",
       "      <td>T1</td>\n",
       "      <td>1250.0</td>\n",
       "    </tr>\n",
       "    <tr>\n",
       "      <th>20</th>\n",
       "      <td>https://casa.sapo.pt//Apartamento-T1-Alugar-Li...</td>\n",
       "      <td>Lisboa</td>\n",
       "      <td>Benfica</td>\n",
       "      <td>T1</td>\n",
       "      <td>850.0</td>\n",
       "    </tr>\n",
       "    <tr>\n",
       "      <th>21</th>\n",
       "      <td>https://casa.sapo.pt//Apartamento-T2-Alugar-Li...</td>\n",
       "      <td>Lisboa</td>\n",
       "      <td>Arroios</td>\n",
       "      <td>T2</td>\n",
       "      <td>1200.0</td>\n",
       "    </tr>\n",
       "    <tr>\n",
       "      <th>22</th>\n",
       "      <td>https://casa.sapo.pt//Apartamento-T1-Alugar-Li...</td>\n",
       "      <td>Lisboa</td>\n",
       "      <td>Belém</td>\n",
       "      <td>T1</td>\n",
       "      <td>1290.0</td>\n",
       "    </tr>\n",
       "    <tr>\n",
       "      <th>23</th>\n",
       "      <td>https://casa.sapo.pt//Apartamento-T2-Alugar-Li...</td>\n",
       "      <td>Lisboa</td>\n",
       "      <td>Parque das Nações</td>\n",
       "      <td>T2</td>\n",
       "      <td>1550.0</td>\n",
       "    </tr>\n",
       "    <tr>\n",
       "      <th>24</th>\n",
       "      <td>https://casa.sapo.pt//Apartamento-T1-Alugar-Li...</td>\n",
       "      <td>Lisboa</td>\n",
       "      <td>Parque das Nações</td>\n",
       "      <td>T1</td>\n",
       "      <td>1400.0</td>\n",
       "    </tr>\n",
       "  </tbody>\n",
       "</table>\n",
       "</div>"
      ],
      "text/plain": [
       "                                                 link    city  \\\n",
       "0   https://casa.sapo.pt//Apartamento-T1-Alugar-Li...  Lisboa   \n",
       "1   https://casa.sapo.pt//Apartamento-T1-Venda-Alu...  Lisboa   \n",
       "2   https://casa.sapo.pt//Apartamento-T1-Alugar-Li...  Lisboa   \n",
       "3   https://casa.sapo.pt//Apartamento-T2-Alugar-Li...  Lisboa   \n",
       "4   https://casa.sapo.pt//Apartamento-T2-Alugar-Li...  Lisboa   \n",
       "5   https://casa.sapo.pt//Apartamento-T0-Venda-Alu...  Lisboa   \n",
       "6   https://casa.sapo.pt//Apartamento-T1-Alugar-Li...  Lisboa   \n",
       "7   https://casa.sapo.pt//Apartamento-T2-Alugar-Li...  Lisboa   \n",
       "8   https://casa.sapo.pt//Apartamento-T2-Venda-Alu...  Lisboa   \n",
       "9   https://casa.sapo.pt//Apartamento-T2-Alugar-Li...  Lisboa   \n",
       "10  https://casa.sapo.pt//Apartamento-T2-Alugar-Li...  Lisboa   \n",
       "11  https://casa.sapo.pt//Apartamento-T1-Alugar-Li...  Lisboa   \n",
       "12  https://casa.sapo.pt//Apartamento-T2-Alugar-Li...  Lisboa   \n",
       "13  https://casa.sapo.pt//Apartamento-T2-Alugar-Li...  Lisboa   \n",
       "14  https://casa.sapo.pt//Apartamento-T2-Alugar-Li...  Lisboa   \n",
       "15  https://casa.sapo.pt//Apartamento-T2-Alugar-Li...  Lisboa   \n",
       "16  https://casa.sapo.pt//Apartamento-T1-Alugar-Li...  Lisboa   \n",
       "17  https://casa.sapo.pt//Apartamento-T1-Alugar-Li...  Lisboa   \n",
       "18  https://casa.sapo.pt//Apartamento-T2-Alugar-Li...  Lisboa   \n",
       "19  https://casa.sapo.pt//Apartamento-T1-Alugar-Li...  Lisboa   \n",
       "20  https://casa.sapo.pt//Apartamento-T1-Alugar-Li...  Lisboa   \n",
       "21  https://casa.sapo.pt//Apartamento-T2-Alugar-Li...  Lisboa   \n",
       "22  https://casa.sapo.pt//Apartamento-T1-Alugar-Li...  Lisboa   \n",
       "23  https://casa.sapo.pt//Apartamento-T2-Alugar-Li...  Lisboa   \n",
       "24  https://casa.sapo.pt//Apartamento-T1-Alugar-Li...  Lisboa   \n",
       "\n",
       "                  freguesia topology   price  \n",
       "0                   Arroios       T1  2850.0  \n",
       "1           Penha de França     T1+1   700.0  \n",
       "2         Parque das Nações       T1  1400.0  \n",
       "3                  Alvalade       T2  1250.0  \n",
       "4                   Estrela       T2   645.0  \n",
       "5                     Ajuda     T0+1   700.0  \n",
       "6                   Arroios     T1+1   850.0  \n",
       "7            Avenidas Novas       T2  1100.0  \n",
       "8             Santo António     T2+1  2350.0  \n",
       "9                  Alvalade       T2  2100.0  \n",
       "10                 Alvalade       T2  1000.0  \n",
       "11        Parque das Nações       T1  1230.0  \n",
       "12              São Vicente       T2  1300.0  \n",
       "13        Parque das Nações       T2  3200.0  \n",
       "14           Avenidas Novas       T2  2900.0  \n",
       "15           Avenidas Novas       T2  1200.0  \n",
       "16         Campo de Ourique       T1  1250.0  \n",
       "17                    Belém       T1  1290.0  \n",
       "18  São Domingos de Benfica       T2  1600.0  \n",
       "19        Parque das Nações       T1  1250.0  \n",
       "20                  Benfica       T1   850.0  \n",
       "21                  Arroios       T2  1200.0  \n",
       "22                    Belém       T1  1290.0  \n",
       "23        Parque das Nações       T2  1550.0  \n",
       "24        Parque das Nações       T1  1400.0  "
      ]
     },
     "execution_count": 79,
     "metadata": {},
     "output_type": "execute_result"
    }
   ],
   "source": [
    "results_df"
   ]
  },
  {
   "cell_type": "markdown",
   "metadata": {},
   "source": [
    "#### Getting all that data"
   ]
  },
  {
   "cell_type": "code",
   "execution_count": 103,
   "metadata": {
    "ExecuteTime": {
     "end_time": "2018-06-14T13:30:43.593180Z",
     "start_time": "2018-06-14T13:30:43.589699Z"
    }
   },
   "outputs": [],
   "source": [
    "col_names =  ['link', 'city', 'freguesia','topology', 'price']\n",
    "results_df  = pd.DataFrame(columns = col_names)"
   ]
  },
  {
   "cell_type": "code",
   "execution_count": 104,
   "metadata": {
    "ExecuteTime": {
     "end_time": "2018-06-14T13:30:44.397206Z",
     "start_time": "2018-06-14T13:30:44.394943Z"
    }
   },
   "outputs": [],
   "source": [
    "page_total = 20\n",
    "base_url = \"https://casa.sapo.pt/Alugar/Apartamentos/T0-ate-T2/Lisboa/?sa=11&pn=\""
   ]
  },
  {
   "cell_type": "code",
   "execution_count": 105,
   "metadata": {
    "ExecuteTime": {
     "end_time": "2018-06-14T13:31:04.815963Z",
     "start_time": "2018-06-14T13:30:45.202533Z"
    }
   },
   "outputs": [
    {
     "name": "stdout",
     "output_type": "stream",
     "text": [
      "on page 1\n",
      "on page 2\n",
      "on page 3\n",
      "on page 4\n",
      "on page 5\n",
      "on page 6\n",
      "on page 7\n",
      "on page 8\n",
      "on page 9\n",
      "on page 10\n",
      "on page 11\n",
      "on page 12\n",
      "on page 13\n",
      "on page 14\n",
      "on page 15\n",
      "on page 16\n",
      "on page 17\n",
      "on page 18\n",
      "on page 19\n",
      "result 18 of page 19not parsed\n",
      "result 21 of page 19not parsed\n",
      "result 22 of page 19not parsed\n",
      "on page 20\n",
      "result 1 of page 20not parsed\n",
      "result 2 of page 20not parsed\n",
      "result 5 of page 20not parsed\n",
      "result 8 of page 20not parsed\n",
      "result 12 of page 20not parsed\n",
      "result 13 of page 20not parsed\n",
      "result 15 of page 20not parsed\n"
     ]
    }
   ],
   "source": [
    "for i in range(1,page_total+1):\n",
    "    print('on page ' + str(i))\n",
    "    url = base_url + str(i)\n",
    "    with urllib.request.urlopen(url) as response:\n",
    "        page = response.read()\n",
    "    \n",
    "    soup = BeautifulSoup(page, \"html.parser\")\n",
    "    results = soup.findAll('div', {'class' : 'searchResultProperty'})\n",
    "    \n",
    "    for index, result in enumerate(results):\n",
    "        try: \n",
    "            link = findLink(result)\n",
    "            location = findLocation(result)\n",
    "            city = location[0]\n",
    "            freguesia = location[1]\n",
    "            topology = findTopology(result)\n",
    "            price = findPrice(result)\n",
    "            \n",
    "            results_df.loc[len(results_df)] = [link,city,freguesia,topology,price]\n",
    "        except AttributeError:\n",
    "            print('result ' + str(index) + ' of page ' + str(i) + 'not parsed')\n"
   ]
  },
  {
   "cell_type": "code",
   "execution_count": 108,
   "metadata": {
    "ExecuteTime": {
     "end_time": "2018-06-14T13:32:51.550697Z",
     "start_time": "2018-06-14T13:32:51.542878Z"
    }
   },
   "outputs": [],
   "source": [
    "with open('rentingData.json', 'w') as f:\n",
    "    f.write(results_df.to_json(orient='records', lines=True))"
   ]
  },
  {
   "cell_type": "code",
   "execution_count": null,
   "metadata": {},
   "outputs": [],
   "source": []
  }
 ],
 "metadata": {
  "kernelspec": {
   "display_name": "Python 3",
   "language": "python",
   "name": "python3"
  },
  "language_info": {
   "codemirror_mode": {
    "name": "ipython",
    "version": 3
   },
   "file_extension": ".py",
   "mimetype": "text/x-python",
   "name": "python",
   "nbconvert_exporter": "python",
   "pygments_lexer": "ipython3",
   "version": "3.6.4"
  },
  "varInspector": {
   "cols": {
    "lenName": 16,
    "lenType": 16,
    "lenVar": 40
   },
   "kernels_config": {
    "python": {
     "delete_cmd_postfix": "",
     "delete_cmd_prefix": "del ",
     "library": "var_list.py",
     "varRefreshCmd": "print(var_dic_list())"
    },
    "r": {
     "delete_cmd_postfix": ") ",
     "delete_cmd_prefix": "rm(",
     "library": "var_list.r",
     "varRefreshCmd": "cat(var_dic_list()) "
    }
   },
   "types_to_exclude": [
    "module",
    "function",
    "builtin_function_or_method",
    "instance",
    "_Feature"
   ],
   "window_display": false
  }
 },
 "nbformat": 4,
 "nbformat_minor": 2
}
